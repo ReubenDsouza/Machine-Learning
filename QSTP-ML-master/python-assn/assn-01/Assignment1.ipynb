{
 "cells": [
  {
   "cell_type": "markdown",
   "metadata": {},
   "source": [
    "# Assignment 1: Strings, Lists and Files\n",
    "\n",
    "This assignment is based on basic python operations and to help you get a better understanding of lists, dictionaries, string operations, file I/O and other basic python operations. All the best!"
   ]
  },
  {
   "cell_type": "markdown",
   "metadata": {},
   "source": [
    "**Q1) Given an positive integer, write a function to print the smallest integer that can be formed by rearranging the digits of the given number.**\n",
    "\n",
    "For e.g.:\n",
    "```\n",
    "    >>> least_int(54235)\n",
    "    23455\n",
    "```"
   ]
  },
  {
   "cell_type": "code",
   "execution_count": 3,
   "metadata": {
    "collapsed": false
   },
   "outputs": [],
   "source": [
    "def least_int(num):\n",
    "    #write your code here\n",
    "    list=[]\n",
    "    string=str(num)\n",
    "    for i in string:\n",
    "        list.append(i)\n",
    "        \n",
    "    list.sort()\n",
    "    \n",
    "    \n",
    "    sum=0\n",
    "    ans=0\n",
    "    for k in list:\n",
    "        n =int(k)\n",
    "        sum=ans+n\n",
    "        ans=sum*10\n",
    "    \n",
    "    \n",
    "    print(sum)\n",
    "    pass\n",
    "\n",
    "\n",
    "\n",
    "\n",
    "\n",
    "\n"
   ]
  },
  {
   "cell_type": "markdown",
   "metadata": {},
   "source": [
    "<hr/>\n",
    "\n",
    "**Q2) Given a string consisting of words and whitespaces, write a function to print a word consisting of the last letters of all the words beginning with the letter 'a'. Assume that all the alphabets in the strings are lower case.**\n",
    "\n",
    "For e.g.: \n",
    "```\n",
    ">>> mystring = 'apple banana aeroplace machine learning python append'\n",
    ">>> function_a(mystring)\n",
    "eed\n",
    "```"
   ]
  },
  {
   "cell_type": "code",
   "execution_count": 19,
   "metadata": {
    "collapsed": true
   },
   "outputs": [],
   "source": [
    "def function_a(string1):\n",
    "    #write your code here\n",
    "    list=string1.split()\n",
    "    mylist=[]\n",
    "    for i in list:\n",
    "        if i.startswith('a'):\n",
    "            mylist.append(i[-1])\n",
    "            \n",
    "    string=''\n",
    "    for i in mylist:\n",
    "        string=string+i\n",
    "    \n",
    "    print(string)\n",
    "    pass\n"
   ]
  },
  {
   "cell_type": "markdown",
   "metadata": {},
   "source": [
    "***\n",
    "**Q3) Given a string in the form of a sentence, remove all duplicate words from the sentence.(Order of words in the return value can differ from original)**\n",
    "For e.g.:\n",
    "```\n",
    ">>> mystr = 'Vedang Pro is Pro at ML'\n",
    ">>> remove_dup(mystr)\n",
    "'Vedang at ML Pro is'\n",
    "```"
   ]
  },
  {
   "cell_type": "code",
   "execution_count": 20,
   "metadata": {
    "collapsed": true
   },
   "outputs": [],
   "source": [
    "def remove_dup(mystring):\n",
    "    #write your code here\n",
    "    list=mystring.split()\n",
    "    for i in  list:\n",
    "        if list.count(i)>1:\n",
    "            list.remove(i)\n",
    "            \n",
    "    string=\"\"\n",
    "    for i in list:\n",
    "        string=string+i+\" \"\n",
    "        \n",
    "    print(string)\n",
    "    pass\n"
   ]
  },
  {
   "cell_type": "markdown",
   "metadata": {},
   "source": [
    "______\n",
    "**Q4) Write a single line of code to check if a given string ```mystring``` is a palindrome or not.**\n",
    "For e.g.:\n",
    "```\n",
    ">>> mystring = 'SatanoscillatemymetallicsonataS'\n",
    "#your code\n",
    "```"
   ]
  },
  {
   "cell_type": "code",
   "execution_count": 3,
   "metadata": {
    "collapsed": false
   },
   "outputs": [
    {
     "name": "stdout",
     "output_type": "stream",
     "text": [
      "no\n"
     ]
    }
   ],
   "source": [
    "mystring = '' #give any random string\n",
    "#write your code here\n",
    "if mystring==mystring[::-1]:\n",
    "    print(\"yes\")\n",
    "else:\n",
    "    print(\"no\")"
   ]
  },
  {
   "cell_type": "markdown",
   "metadata": {},
   "source": [
    "___\n",
    "**Q5) Given a list of integers, create a new list where the i'th entry in the list is the average of previous i - 1 entries in the original list.**\n",
    "For e.g.:\n",
    "```\n",
    ">>> a = [1, 2, 3, 4, 5]\n",
    ">>> list_of_avgs(a)\n",
    "[1.0, 1.5, 2.0, 2.5, 3.0]\n",
    "```"
   ]
  },
  {
   "cell_type": "code",
   "execution_count": 22,
   "metadata": {
    "collapsed": true
   },
   "outputs": [],
   "source": [
    "def list_of_avgs(a):\n",
    "    #write your code here\n",
    "    sum=0\n",
    "    div=1\n",
    "    average=[]\n",
    "    for i in a :\n",
    "        sum=sum +i\n",
    "        av=sum/div\n",
    "        div=div+1\n",
    "        average.append(av)\n",
    "    print(average)\n",
    "    pass\n"
   ]
  },
  {
   "cell_type": "markdown",
   "metadata": {},
   "source": [
    "___\n",
    "**Q6) Given a list of random integers, modify the list such that all the elements in even places are in ascending order and all those in the odd places appear in a decreasing order. Assume labeling of the places start from the number zero.**\n",
    "\n",
    "For e.g.\n",
    "```\n",
    ">>> a = [1, 8, 4, 5, 2, 5, 3, 9, 4]\n",
    ">>> asc_desc_list(a)\n",
    "[1, 9, 2, 8, 3, 5, 4, 5, 4]\n",
    "```"
   ]
  },
  {
   "cell_type": "code",
   "execution_count": 9,
   "metadata": {
    "collapsed": false
   },
   "outputs": [],
   "source": [
    "def asc_desc_list(a):\n",
    "    #write your code here\n",
    "    ascending=[]\n",
    "    descending=[]\n",
    "    for i in a[::2] :\n",
    "        ascending.append(i)\n",
    "    for i in a[1::2] :\n",
    "        descending.append(i)\n",
    "    ascending.sort()\n",
    "    descending.sort()\n",
    "    descending.reverse()\n",
    "    k=1\n",
    "    for i in descending :\n",
    "        ascending.insert(k,i)\n",
    "        k=k+2\n",
    "    print(ascending)\n",
    "    pass\n",
    "\n",
    "\n"
   ]
  },
  {
   "cell_type": "markdown",
   "metadata": {},
   "source": [
    "___\n",
    "**Q7) Write an iterator function to return the elements of the Fibonacci series.**"
   ]
  },
  {
   "cell_type": "code",
   "execution_count": 24,
   "metadata": {
    "collapsed": true
   },
   "outputs": [],
   "source": [
    "#write your code here\n",
    "list=[1,1]\n",
    "\n",
    "n=int(input(\"how many fibonnacio numbers do you want displayed :\"))\n",
    "\n",
    "for i in range(1,n-1) :\n",
    "    num=list[i-1]+list[i]\n",
    "    list.append(num)\n",
    "\n",
    "print(list)\n"
   ]
  },
  {
   "cell_type": "markdown",
   "metadata": {},
   "source": [
    "---\n",
    "**Q8) Print all the sublists of a list, seperated by a comma and a whitespace.**\n",
    "For e.g.:\n",
    "```\n",
    ">>> a = [1, 2]\n",
    ">>> sub_lists(a)\n",
    "[], [1], [1, 2] [2][\n",
    "```"
   ]
  },
  {
   "cell_type": "code",
   "execution_count": 18,
   "metadata": {
    "collapsed": false
   },
   "outputs": [
    {
     "name": "stdout",
     "output_type": "stream",
     "text": [
      "[], [1], [1, 2], [2], \n"
     ]
    }
   ],
   "source": [
    "def sub_lists(a):\n",
    "    #write your code here\n",
    "    lists=[]\n",
    "    lists.append([])\n",
    "    for i in range(0,len(a)):\n",
    "        for j in range(i+1,len(a)+1):\n",
    "            sublist=a[i:j]\n",
    "            lists.append(sublist)\n",
    "    string=\"\"\n",
    "    for i in lists:\n",
    "        string=string+str(i)+\", \"\n",
    "    print(string)\n",
    "    pass\n"
   ]
  },
  {
   "cell_type": "markdown",
   "metadata": {},
   "source": [
    "---\n",
    "**Q9) Write two functions, each of which take a list as an argument.  The first function modifies the list by appending the sum of entries of the list passed as an argument. The second function reassigns a new list to the argument passed, where each entry in the new list is one more than the corresponding entry given as an argument. Is the change reflected outside the functions in both cases? Why/Why not?**\n",
    "Note: For reassign_list(a), you have to reassign a new list to the argument, and not change the existing list."
   ]
  },
  {
   "cell_type": "code",
   "execution_count": 13,
   "metadata": {
    "collapsed": false
   },
   "outputs": [
    {
     "name": "stdout",
     "output_type": "stream",
     "text": [
      "[1, 2, 3, 6]\n",
      "[2, 3, 4]\n",
      "[1, 2, 3]\n"
     ]
    }
   ],
   "source": [
    "def modify_list(a):\n",
    "    #write your code here\n",
    "    sum=0\n",
    "    for i in a:\n",
    "        sum=sum+i\n",
    "    a.append(sum)\n",
    "    pass\n",
    "\n",
    "def reassign_list(a):\n",
    "    #write your code here\n",
    "    reassigned_list=[]\n",
    "    for i in a:\n",
    "        reassigned_list.append(i+1)\n",
    "        \n",
    "    print(reassigned_list)\n",
    "    \n",
    "    pass\n",
    "a = [1, 2, 3]\n",
    "modify_list(a)\n",
    "print(a)\n",
    "\n",
    "a = [1, 2, 3]\n",
    "reassign_list(a)\n",
    "print(a)\n",
    "#the change is reflected in the modified_list becoz we are modifying the original list.\n",
    "#but in reassign_list it is not modified because we create a new list and modify that"
   ]
  },
  {
   "cell_type": "markdown",
   "metadata": {},
   "source": [
    "---\n",
    "**Q10) Given a string, return a dictionary consisting of each character in the string and the position at which it occurs. (Positions are to be taken as keys, and position numbering starts from 1)**\n",
    "\n",
    "For e.g.)\n",
    "\n",
    "```\n",
    ">>> a = 'Machine Learning'\n",
    ">>> char_position(a)\n",
    "{1: 'M', 2: 'a', 3: 'c', 4: 'h', 5: 'i', 6: 'n', 7: 'e', 9: 'L', 10: 'e', 11: 'a', 12: 'r', 13: 'n', 14: 'i', 15: 'n', 16: 'g'}\n",
    "```"
   ]
  },
  {
   "cell_type": "code",
   "execution_count": 28,
   "metadata": {
    "collapsed": true
   },
   "outputs": [],
   "source": [
    "def char_position(a):\n",
    "    #write your code here\n",
    "    dict={}\n",
    "    k=1\n",
    "    for i in a :\n",
    "        dict[k]=a[k-1]\n",
    "        k=k+1\n",
    "        \n",
    "    print(dict)\n",
    "    pass"
   ]
  },
  {
   "cell_type": "markdown",
   "metadata": {},
   "source": [
    "---\n",
    "\n",
    "**Q11) Given a string, arrange the characters in increasing order of their frequency at which they appear(Ignore any whitespaces)**\n",
    "\n",
    "For e.g.:\n",
    "```\n",
    ">>> a = 'ifadhaiusbdufbugfsdbfubgsidf'\n",
    ">>> sort_by_freq(a)\n",
    "'haaggiiisssdddduuuubbbbfffff'\n",
    "```"
   ]
  },
  {
   "cell_type": "code",
   "execution_count": 29,
   "metadata": {
    "collapsed": true
   },
   "outputs": [],
   "source": [
    "def sort_by_freq(a):\n",
    "    #write your code here\n",
    "    list=[]\n",
    "    k=0\n",
    "    for i in a :\n",
    "        list.append(a[k])\n",
    "        k=k+1\n",
    "        \n",
    "    list.sort(key=a.count)\n",
    "    string=\"\"\n",
    "    for i in list :\n",
    "        string=string+i\n",
    "    print(string)\n",
    "    pass\n",
    "\n"
   ]
  },
  {
   "cell_type": "markdown",
   "metadata": {},
   "source": [
    "---\n",
    "---\n",
    "**Q12)**\n",
    "\n",
    "**A) Create a file called myfile.txt**\n",
    "\n",
    "**B) Enter some a random paragraph into the file.**\n",
    "\n",
    "**C) Take an integer input n from the user. Create a file with the name as the nth word in myfile.txt.(Assume that n is less than the number of words in your file.)**\n",
    "\n",
    "**D) Enter the paragraph from myfile.txt into your new file, in reverse order. \n",
    "Note: In part (D) only the order of the words should change, the words are not reversed in themselves.**"
   ]
  }
 ],
 "metadata": {
  "kernelspec": {
   "display_name": "Python 3",
   "language": "python",
   "name": "python3"
  },
  "language_info": {
   "codemirror_mode": {
    "name": "ipython",
    "version": 3
   },
   "file_extension": ".py",
   "mimetype": "text/x-python",
   "name": "python",
   "nbconvert_exporter": "python",
   "pygments_lexer": "ipython3",
   "version": "3.6.0"
  }
 },
 "nbformat": 4,
 "nbformat_minor": 2
}
